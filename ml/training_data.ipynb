{
 "cells": [
  {
   "cell_type": "code",
   "execution_count": 1,
   "metadata": {},
   "outputs": [
    {
     "name": "stdout",
     "output_type": "stream",
     "text": [
      "{\"status\":\"OK\",\"request_id\":\"21e2f950-238b-43ea-b806-4c02d2f55efc\",\"parameters\":{\"job_id\":\"20N57zBfi3eT9BdpAAAAAA==\",\"country\":\"us\",\"language\":\"en\"},\"data\":[{\"job_id\":\"20N57zBfi3eT9BdpAAAAAA==\",\"job_title\":\"JavaScript Backend Developer\",\"employer_name\":\"IT Engagements, Inc.\",\"employer_logo\":\"https://encrypted-tbn0.gstatic.com/images?q=tbn:ANd9GcQdiK9i1psQm2cIFbZe06v_LCI_-5c5GR4UXsGu&s=0\",\"employer_website\":null,\"job_publisher\":\"LinkedIn\",\"job_employment_type\":\"Contractor\",\"job_employment_types\":[\"CONTRACTOR\",\"CONTRACTOR\"],\"job_apply_link\":\"https://www.linkedin.com/jobs/view/javascript-backend-developer-at-it-engagements-inc-4148684949?utm_campaign=google_jobs_apply&utm_source=google_jobs_apply&utm_medium=organic\",\"job_apply_is_direct\":false,\"apply_options\":[{\"publisher\":\"LinkedIn\",\"apply_link\":\"https://www.linkedin.com/jobs/view/javascript-backend-developer-at-it-engagements-inc-4148684949?utm_campaign=google_jobs_apply&utm_source=google_jobs_apply&utm_medium=organic\",\"is_direct\":false},{\"publisher\":\"JobLeads\",\"apply_link\":\"https://www.jobleads.com/us/job/javascript-backend-developer--chicago--e3e359ff9336688178f270a184e5cb51a?utm_campaign=google_jobs_apply&utm_source=google_jobs_apply&utm_medium=organic\",\"is_direct\":false},{\"publisher\":\"Learn4Good\",\"apply_link\":\"https://www.learn4good.com/jobs/chicago/illinois/info_technology/3957218611/e/?utm_campaign=google_jobs_apply&utm_source=google_jobs_apply&utm_medium=organic\",\"is_direct\":false},{\"publisher\":\"Recruit.net\",\"apply_link\":\"https://www.recruit.net/job/javascript-backend-developer-jobs/26C1A6038C4A541B?utm_campaign=google_jobs_apply&utm_source=google_jobs_apply&utm_medium=organic\",\"is_direct\":false}],\"job_description\":\"Greetings from IT Engagements…!\\n\\nIT Engagements is a global staff augmentation firm providing a wide-range of talent on-demand and total workforce solutions. We have an immediate opening for the below position with one of our premium clients.\\n\\nJob Title:- JavaScript Backend Developer\\n\\nDuration:- 12+ Months Contract (Possibility of further extension)\\n\\nLocation:- Hybrid (3day/Week Onsite) at Chicago, IL.\\n\\nVisa:- USC, GC, GC-EAD, H4-EAD (No Third-Party Candidates)\\n\\nJob Description:-\\n• Communication skills are the KEY! We need a Solution type person. This person is going to have to have a great personality and awesome communication skills\\n• JavaScript Backend Developer (NO Front-end work) – ALL JavaScript backend Development.\\n• Must have 10 years of JavaScript backend Development experience.\\n• Must have SDK Experience.\\n\\nRegards,\\n\\nShashank Jaitly\\n\\nShashank@itengagements.com\",\"job_is_remote\":null,\"job_posted_at\":\"13 days ago\",\"job_posted_at_timestamp\":1739145600,\"job_posted_at_datetime_utc\":\"2025-02-10T00:00:00.000Z\",\"job_location\":\"Chicago, IL, United States\",\"job_city\":\"Chicago\",\"job_state\":\"Illinois\",\"job_country\":\"US\",\"job_latitude\":41.8781136,\"job_longitude\":-87.6297982,\"job_benefits\":null,\"job_google_link\":\"https://www.google.com/search?q=jobs&gl=us&hl=en&udm=8#vhid=vt%3D20/docid%3D20N57zBfi3eT9BdpAAAAAA%3D%3D&vssid=jobs-detail-viewer\",\"job_salary\":null,\"job_min_salary\":null,\"job_max_salary\":null,\"job_salary_period\":null,\"job_highlights\":{\"Qualifications\":[\"Communication skills are the KEY!\",\"This person is going to have to have a great personality and awesome communication skills\",\"JavaScript Backend Developer (NO Front-end work) – ALL JavaScript backend Development\",\"Must have 10 years of JavaScript backend Development experience\",\"Must have SDK Experience\"],\"Benefits\":[\"Duration:- 12+ Months Contract (Possibility of further extension)\"]},\"job_onet_soc\":\"15113400\",\"job_onet_job_zone\":\"3\"}]}\n"
     ]
    }
   ],
   "source": [
    "#importing the spacy library\n",
    "import http.client\n",
    "\n",
    "conn = http.client.HTTPSConnection(\"jsearch.p.rapidapi.com\")\n",
    "\n",
    "headers = {\n",
    "    'x-rapidapi-key': \"2a7c3b29d5mshf4db3eeb2b74a9dp12ff9djsn70ecfd9294b3\",\n",
    "    'x-rapidapi-host': \"jsearch.p.rapidapi.com\"\n",
    "}\n",
    "\n",
    "conn.request(\"GET\", \"/job-details?job_id=20N57zBfi3eT9BdpAAAAAA%3D%3D&country=us\", headers=headers)\n",
    "\n",
    "res = conn.getresponse()\n",
    "data = res.read()\n",
    "\n",
    "print(data.decode(\"utf-8\"))\n",
    "\n"
   ]
  }
 ],
 "metadata": {
  "kernelspec": {
   "display_name": "Python 3",
   "language": "python",
   "name": "python3"
  },
  "language_info": {
   "name": "python",
   "version": "3.12.9"
  }
 },
 "nbformat": 4,
 "nbformat_minor": 2
}
