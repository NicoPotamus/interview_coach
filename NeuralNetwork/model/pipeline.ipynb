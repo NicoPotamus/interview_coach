{
 "cells": [
  {
   "cell_type": "markdown",
   "metadata": {},
   "source": [
    "# This program uses spaCy's pretrained pipeline to fine tune the model for our application"
   ]
  },
  {
   "cell_type": "code",
   "execution_count": 1,
   "metadata": {},
   "outputs": [],
   "source": [
    "#Import and load the spacy model\n",
    "import spacy\n",
    "from spacy.matcher import PhraseMatcher\n",
    "from spacy.tokens import Span, DocBin\n",
    "from spacy.language import Language\n",
    "\n",
    "nlp = spacy.load(\"en_core_web_lg\")\n",
    "import csv\n",
    "\n",
    "#getting the data from the csv and turning it into text that can be manipulated by spaCy's pipeline\n",
    "TEXTS = []\n",
    "with open(\"../data/related_skills.csv\", mode='r') as f:\n",
    "    reader = csv.reader(f, delimiter=',')\n",
    "    next(reader)  # Skip the first row\n",
    "    for row in reader:\n",
    "        TEXTS.extend(row)\n"
   ]
  },
  {
   "cell_type": "markdown",
   "metadata": {},
   "source": [
    "we want to add a component before the data gets to the NER model\n",
    "we want to add patterns to the model for the it to identify in the training data"
   ]
  },
  {
   "cell_type": "code",
   "execution_count": 2,
   "metadata": {},
   "outputs": [],
   "source": [
    "#creating pattern\n",
    "skills_patterns = list(nlp.pipe(TEXTS))"
   ]
  },
  {
   "cell_type": "code",
   "execution_count": 3,
   "metadata": {},
   "outputs": [
    {
     "name": "stdout",
     "output_type": "stream",
     "text": [
      "a certified\n",
      "network certified\n",
      "laptops\n",
      "n certified\n",
      "computer hardware\n",
      "windows 7\n",
      "comptia\n",
      "troubleshooting\n",
      "software installation\n",
      "printers\n",
      "xp\n"
     ]
    }
   ],
   "source": [
    "\n",
    "#just printing the first few skills in the list\n",
    "i = 0\n",
    "while i <= 10:\n",
    "    print(skills_patterns[i].text)\n",
    "    i += 1"
   ]
  },
  {
   "cell_type": "code",
   "execution_count": 4,
   "metadata": {},
   "outputs": [],
   "source": [
    "matcher = PhraseMatcher(nlp.vocab)\n",
    "matcher.add(\"SKILL\", skills_patterns)"
   ]
  },
  {
   "cell_type": "code",
   "execution_count": 6,
   "metadata": {},
   "outputs": [],
   "source": [
    "# This is the component...we may have to take a different approach\n",
    "@Language.component(\"skills_component\")\n",
    "def skills_component_function(doc):\n",
    "    #applying matcher to the doc\n",
    "    matches = matcher(doc)\n",
    "    #creating the span for each match and assigning the label \"SKILL\"\n",
    "    spans = [Span(doc, start, end, label = \"SKILL\") for match_id, start, end in matches]\n",
    "    #were going to overite the doc.ents with our new spans\n",
    "    doc.ents = spans \n",
    "    return doc"
   ]
  },
  {
   "cell_type": "code",
   "execution_count": null,
   "metadata": {},
   "outputs": [],
   "source": []
  }
 ],
 "metadata": {
  "kernelspec": {
   "display_name": "base",
   "language": "python",
   "name": "python3"
  },
  "language_info": {
   "codemirror_mode": {
    "name": "ipython",
    "version": 3
   },
   "file_extension": ".py",
   "mimetype": "text/x-python",
   "name": "python",
   "nbconvert_exporter": "python",
   "pygments_lexer": "ipython3",
   "version": "3.11.8"
  }
 },
 "nbformat": 4,
 "nbformat_minor": 2
}
