{
 "cells": [
  {
   "cell_type": "markdown",
   "metadata": {},
   "source": [
    "# This program uses spaCy's pretrained pipeline to fine tune the model for our application"
   ]
  },
  {
   "cell_type": "code",
   "execution_count": 1,
   "metadata": {},
   "outputs": [],
   "source": [
    "#Import and load the spacy model\n",
    "import spacy\n",
    "from spacy.matcher import PhraseMatcher\n",
    "from spacy.tokens import Span\n",
    "from spacy.language import Language\n",
    "\n",
    "nlp = spacy.load(\"en_core_web_lg\")\n",
    "import csv\n",
    "\n",
    "#getting the data from the csv and turning it into text that can be manipulated by spaCy's pipeline\n",
    "TEXTS = []\n",
    "with open(\"../data/related_skills.csv\", mode='r') as f:\n",
    "    reader = csv.reader(f, delimiter=',')\n",
    "    next(reader)  # Skip the first row\n",
    "    for row in reader:\n",
    "        TEXTS.extend(row)\n"
   ]
  },
  {
   "cell_type": "markdown",
   "metadata": {},
   "source": [
    "we want to add a component before the data gets to the NER model\n",
    "we want to add patterns to the model for the it to identify in the training data"
   ]
  },
  {
   "cell_type": "code",
   "execution_count": 2,
   "metadata": {},
   "outputs": [
    {
     "name": "stdout",
     "output_type": "stream",
     "text": [
      "a certified\n",
      "network certified\n",
      "laptops\n",
      "n certified\n",
      "computer hardware\n"
     ]
    }
   ],
   "source": [
    "#creating pattern\n",
    "skills_patterns = list(nlp.pipe(TEXTS))\n",
    "i=0\n",
    "for doc in skills_patterns:\n",
    "    if i<5:\n",
    "        print(doc.text)\n",
    "        i += 1\n",
    "    else: \n",
    "        break"
   ]
  },
  {
   "cell_type": "code",
   "execution_count": 3,
   "metadata": {},
   "outputs": [],
   "source": [
    "matcher = PhraseMatcher(nlp.vocab)\n",
    "matcher.add(\"SKILL\", skills_patterns)"
   ]
  },
  {
   "cell_type": "code",
   "execution_count": 4,
   "metadata": {},
   "outputs": [],
   "source": [
    "# This is the component\n",
    "@Language.component(\"skills_component\")\n",
    "def skills_component_function(doc):\n",
    "    #applying matcher to the doc\n",
    "    matches = matcher(doc)\n",
    "    #creating the span for each match and assigning the label \"SKILL\"\n",
    "    spans = [Span(doc, start, end, label = \"SKILL\") for match_id, start, end in matches]\n",
    "    #were going to overite the doc.ents with our new spans\n",
    "    doc.ents = spans \n",
    "    return doc\n"
   ]
  },
  {
   "cell_type": "code",
   "execution_count": 11,
   "metadata": {},
   "outputs": [
    {
     "name": "stdout",
     "output_type": "stream",
     "text": [
      "['tok2vec', 'tagger', 'parser', 'attribute_ruler', 'lemmatizer', 'skills_component', 'ner']\n"
     ]
    }
   ],
   "source": [
    "# Add the component to the pipeline after the \"ner\" component\n",
    "nlp.add_pipe(\"skills_component\", after=\"lemmatizer\")\n",
    "print(nlp.pipe_names)"
   ]
  }
 ],
 "metadata": {
  "kernelspec": {
   "display_name": "myenv",
   "language": "python",
   "name": "python3"
  },
  "language_info": {
   "codemirror_mode": {
    "name": "ipython",
    "version": 3
   },
   "file_extension": ".py",
   "mimetype": "text/x-python",
   "name": "python",
   "nbconvert_exporter": "python",
   "pygments_lexer": "ipython3",
   "version": "3.12.9"
  }
 },
 "nbformat": 4,
 "nbformat_minor": 2
}
