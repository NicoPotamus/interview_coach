{
 "cells": [
  {
   "cell_type": "code",
   "execution_count": 1,
   "metadata": {},
   "outputs": [],
   "source": [
    "import spacy"
   ]
  },
  {
   "cell_type": "code",
   "execution_count": 2,
   "metadata": {},
   "outputs": [],
   "source": [
    "# Load models\n",
    "best_model = spacy.load(\"../models/trained_ner_model_best\")\n",
    "regular_model = spacy.load(\"../models/trained_ner_model\")"
   ]
  },
  {
   "cell_type": "code",
   "execution_count": 3,
   "metadata": {},
   "outputs": [],
   "source": [
    "# Load your trained NER model\n",
    "nlp = regular_model\n",
    "# Example job description\n",
    "job_description = \"\"\"\n",
    "We are looking for an experienced Systems Administrator with expertise in Hyper-V, VMware, and Windows Server management.\n",
    "The ideal candidate should have a strong background in networking, including proficiency in DNS, DHCP, and VPN configuration.\n",
    "Knowledge of cloud platforms such as AWS and Azure is highly preferred.\n",
    "\"\"\""
   ]
  },
  {
   "cell_type": "code",
   "execution_count": 4,
   "metadata": {},
   "outputs": [],
   "source": [
    "# Process the text through the model\n",
    "doc = nlp(job_description)"
   ]
  },
  {
   "cell_type": "code",
   "execution_count": 5,
   "metadata": {},
   "outputs": [],
   "source": [
    "# Extract detected skills\n",
    "detected_skills = [(ent.text, ent.label_) for ent in doc.ents if ent.label_ == \"SKILL\"]"
   ]
  },
  {
   "cell_type": "code",
   "execution_count": 6,
   "metadata": {},
   "outputs": [
    {
     "name": "stdout",
     "output_type": "stream",
     "text": [
      "Detected Skills:\n",
      "- Hyper-V\n",
      "- Windows Server management\n",
      "- networking\n",
      "- DNS\n",
      "- cloud platforms such\n"
     ]
    }
   ],
   "source": [
    "# Print results\n",
    "print(\"Detected Skills:\")\n",
    "for skill, label in detected_skills:\n",
    "    print(f\"- {skill}\")"
   ]
  }
 ],
 "metadata": {
  "kernelspec": {
   "display_name": "base",
   "language": "python",
   "name": "python3"
  },
  "language_info": {
   "codemirror_mode": {
    "name": "ipython",
    "version": 3
   },
   "file_extension": ".py",
   "mimetype": "text/x-python",
   "name": "python",
   "nbconvert_exporter": "python",
   "pygments_lexer": "ipython3",
   "version": "3.11.8"
  }
 },
 "nbformat": 4,
 "nbformat_minor": 2
}
