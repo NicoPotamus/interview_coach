{
 "cells": [
  {
   "cell_type": "code",
   "execution_count": 1,
   "metadata": {},
   "outputs": [],
   "source": [
    "import pandas as pd\n",
    "import json\n",
    "import re\n",
    "import random"
   ]
  },
  {
   "cell_type": "code",
   "execution_count": 2,
   "metadata": {},
   "outputs": [],
   "source": [
    "# Load the processed skills data\n",
    "df = pd.read_csv(\"../data/processed_skills.csv\")"
   ]
  },
  {
   "cell_type": "code",
   "execution_count": 3,
   "metadata": {},
   "outputs": [],
   "source": [
    "# Sentence templates\n",
    "sentence_templates = [\n",
    "    \"{} is a required skill for this position.\",\n",
    "    \"Candidates should have expertise in {}.\",\n",
    "    \"Proficiency in {} is essential for this job.\",\n",
    "    \"A background in {} is strongly preferred.\",\n",
    "    \"We are looking for applicants skilled in {}.\",\n",
    "    \"Experience with {} is a significant advantage.\",\n",
    "    \"{} knowledge is a key qualification.\",\n",
    "    \"An ideal candidate must be proficient in {}.\",\n",
    "    \"Knowledge of {} is required for this role.\",\n",
    "    \"{} is an important skill for candidates.\",\n",
    "    \"Candidates should demonstrate strong {} skills.\",\n",
    "    \"Proficiency in {} is preferred by employers.\",\n",
    "    \"Having a solid background in {} will be beneficial.\",\n",
    "     \"{} is a valuable skill for this position.\",\n",
    "    \"Having experience in {} will be beneficial.\",\n",
    "    \"Familiarity with {} is a must-have for this role.\",\n",
    "    \"Candidates should be well-versed in {}.\",\n",
    "    \"Employers seek professionals with {} expertise.\",\n",
    "    \"A solid foundation in {} is required.\",\n",
    "    \"{} is highly valued in this industry.\",\n",
    "    \"Strong {} skills are necessary for success in this role.\",\n",
    "    \"Understanding {} is crucial for this job.\",\n",
    "    \"Applicants must demonstrate competency in {}.\",\n",
    "    \"A candidate must be experienced in {}.\",\n",
    "    \"{} proficiency will help you excel in this role.\",\n",
    "    \"The ability to work with {} is a must-have for this position.\",\n",
    "    \"We are prioritizing candidates familiar with {}.\",\n",
    "    \"Employers value professionals who are skilled in {}.\"\n",
    "]"
   ]
  },
  {
   "cell_type": "code",
   "execution_count": 4,
   "metadata": {},
   "outputs": [],
   "source": [
    "training_data = []\n",
    "for job_title, skills in df.groupby(\"Title\")[\"Skill\"].apply(list).to_dict().items():\n",
    "    description = f\"We are hiring a {job_title}. \"\n",
    "\n",
    "    # Randomly select skill sentences and mix them\n",
    "    skill_sentences = [random.choice(sentence_templates).format(skill) for skill in skills[:5]]\n",
    "    description += \" \".join(skill_sentences)\n",
    "\n",
    "    entities = []\n",
    "    used_ranges = []\n",
    "\n",
    "    for skill in skills[:5]:  \n",
    "        match = re.search(r'\\b' + re.escape(skill) + r'\\b', description)  \n",
    "        if match:\n",
    "            start_idx, end_idx = match.start(), match.end()\n",
    "\n",
    "            if not any(s <= start_idx < e or s < end_idx <= e for s, e in used_ranges):\n",
    "                entities.append((start_idx, end_idx, \"SKILL\"))\n",
    "                used_ranges.append((start_idx, end_idx))\n",
    "\n",
    "    if entities:\n",
    "        training_data.append((description, {\"entities\": entities}))"
   ]
  },
  {
   "cell_type": "code",
   "execution_count": null,
   "metadata": {},
   "outputs": [],
   "source": [
    "# Save as a JSON file for spaCy training\n",
    "with open(\"../data/spacy_training_data.json\", \"w\") as f:\n",
    "    json.dump(training_data, f, indent=4)\n",
    "\n",
    "print(\"Fixed and saved training data as 'spacy_training_data.json'\")"
   ]
  }
 ],
 "metadata": {
  "kernelspec": {
   "display_name": "base",
   "language": "python",
   "name": "python3"
  },
  "language_info": {
   "codemirror_mode": {
    "name": "ipython",
    "version": 3
   },
   "file_extension": ".py",
   "mimetype": "text/x-python",
   "name": "python",
   "nbconvert_exporter": "python",
   "pygments_lexer": "ipython3",
   "version": "3.11.8"
  }
 },
 "nbformat": 4,
 "nbformat_minor": 2
}
