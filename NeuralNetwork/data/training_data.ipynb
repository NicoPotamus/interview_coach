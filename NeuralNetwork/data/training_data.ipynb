{
 "cells": [
  {
   "cell_type": "code",
   "execution_count": 1,
   "metadata": {},
   "outputs": [
    {
     "ename": "OSError",
     "evalue": "[E050] Can't find model 'en_core_web_sm'. It doesn't seem to be a Python package or a valid path to a data directory.",
     "output_type": "error",
     "traceback": [
      "\u001b[1;31m---------------------------------------------------------------------------\u001b[0m",
      "\u001b[1;31mOSError\u001b[0m                                   Traceback (most recent call last)",
      "Cell \u001b[1;32mIn[1], line 3\u001b[0m\n\u001b[0;32m      1\u001b[0m \u001b[38;5;28;01mimport\u001b[39;00m\u001b[38;5;250m \u001b[39m\u001b[38;5;21;01mspacy\u001b[39;00m\n\u001b[0;32m      2\u001b[0m \u001b[38;5;28;01mfrom\u001b[39;00m\u001b[38;5;250m \u001b[39m\u001b[38;5;21;01mspacy\u001b[39;00m\u001b[38;5;21;01m.\u001b[39;00m\u001b[38;5;21;01mtokens\u001b[39;00m\u001b[38;5;250m \u001b[39m\u001b[38;5;28;01mimport\u001b[39;00m Span\n\u001b[1;32m----> 3\u001b[0m nlp \u001b[38;5;241m=\u001b[39m \u001b[43mspacy\u001b[49m\u001b[38;5;241;43m.\u001b[39;49m\u001b[43mload\u001b[49m\u001b[43m(\u001b[49m\u001b[38;5;124;43m'\u001b[39;49m\u001b[38;5;124;43men_core_web_sm\u001b[39;49m\u001b[38;5;124;43m'\u001b[39;49m\u001b[43m)\u001b[49m\n\u001b[0;32m      4\u001b[0m doc8 \u001b[38;5;241m=\u001b[39m nlp(\u001b[38;5;124m\"\u001b[39m\u001b[38;5;124mHands-on\u001b[39m\u001b[38;5;124m\"\u001b[39m)\n\u001b[0;32m      5\u001b[0m \u001b[38;5;28mprint\u001b[39m(doc8\u001b[38;5;241m.\u001b[39mtext)\n",
      "File \u001b[1;32m~\\AppData\\Local\\Packages\\PythonSoftwareFoundation.Python.3.12_qbz5n2kfra8p0\\LocalCache\\local-packages\\Python312\\site-packages\\spacy\\__init__.py:51\u001b[0m, in \u001b[0;36mload\u001b[1;34m(name, vocab, disable, enable, exclude, config)\u001b[0m\n\u001b[0;32m     27\u001b[0m \u001b[38;5;28;01mdef\u001b[39;00m\u001b[38;5;250m \u001b[39m\u001b[38;5;21mload\u001b[39m(\n\u001b[0;32m     28\u001b[0m     name: Union[\u001b[38;5;28mstr\u001b[39m, Path],\n\u001b[0;32m     29\u001b[0m     \u001b[38;5;241m*\u001b[39m,\n\u001b[1;32m   (...)\u001b[0m\n\u001b[0;32m     34\u001b[0m     config: Union[Dict[\u001b[38;5;28mstr\u001b[39m, Any], Config] \u001b[38;5;241m=\u001b[39m util\u001b[38;5;241m.\u001b[39mSimpleFrozenDict(),\n\u001b[0;32m     35\u001b[0m ) \u001b[38;5;241m-\u001b[39m\u001b[38;5;241m>\u001b[39m Language:\n\u001b[0;32m     36\u001b[0m \u001b[38;5;250m    \u001b[39m\u001b[38;5;124;03m\"\"\"Load a spaCy model from an installed package or a local path.\u001b[39;00m\n\u001b[0;32m     37\u001b[0m \n\u001b[0;32m     38\u001b[0m \u001b[38;5;124;03m    name (str): Package name or model path.\u001b[39;00m\n\u001b[1;32m   (...)\u001b[0m\n\u001b[0;32m     49\u001b[0m \u001b[38;5;124;03m    RETURNS (Language): The loaded nlp object.\u001b[39;00m\n\u001b[0;32m     50\u001b[0m \u001b[38;5;124;03m    \"\"\"\u001b[39;00m\n\u001b[1;32m---> 51\u001b[0m     \u001b[38;5;28;01mreturn\u001b[39;00m \u001b[43mutil\u001b[49m\u001b[38;5;241;43m.\u001b[39;49m\u001b[43mload_model\u001b[49m\u001b[43m(\u001b[49m\n\u001b[0;32m     52\u001b[0m \u001b[43m        \u001b[49m\u001b[43mname\u001b[49m\u001b[43m,\u001b[49m\n\u001b[0;32m     53\u001b[0m \u001b[43m        \u001b[49m\u001b[43mvocab\u001b[49m\u001b[38;5;241;43m=\u001b[39;49m\u001b[43mvocab\u001b[49m\u001b[43m,\u001b[49m\n\u001b[0;32m     54\u001b[0m \u001b[43m        \u001b[49m\u001b[43mdisable\u001b[49m\u001b[38;5;241;43m=\u001b[39;49m\u001b[43mdisable\u001b[49m\u001b[43m,\u001b[49m\n\u001b[0;32m     55\u001b[0m \u001b[43m        \u001b[49m\u001b[43menable\u001b[49m\u001b[38;5;241;43m=\u001b[39;49m\u001b[43menable\u001b[49m\u001b[43m,\u001b[49m\n\u001b[0;32m     56\u001b[0m \u001b[43m        \u001b[49m\u001b[43mexclude\u001b[49m\u001b[38;5;241;43m=\u001b[39;49m\u001b[43mexclude\u001b[49m\u001b[43m,\u001b[49m\n\u001b[0;32m     57\u001b[0m \u001b[43m        \u001b[49m\u001b[43mconfig\u001b[49m\u001b[38;5;241;43m=\u001b[39;49m\u001b[43mconfig\u001b[49m\u001b[43m,\u001b[49m\n\u001b[0;32m     58\u001b[0m \u001b[43m    \u001b[49m\u001b[43m)\u001b[49m\n",
      "File \u001b[1;32m~\\AppData\\Local\\Packages\\PythonSoftwareFoundation.Python.3.12_qbz5n2kfra8p0\\LocalCache\\local-packages\\Python312\\site-packages\\spacy\\util.py:472\u001b[0m, in \u001b[0;36mload_model\u001b[1;34m(name, vocab, disable, enable, exclude, config)\u001b[0m\n\u001b[0;32m    470\u001b[0m \u001b[38;5;28;01mif\u001b[39;00m name \u001b[38;5;129;01min\u001b[39;00m OLD_MODEL_SHORTCUTS:\n\u001b[0;32m    471\u001b[0m     \u001b[38;5;28;01mraise\u001b[39;00m \u001b[38;5;167;01mIOError\u001b[39;00m(Errors\u001b[38;5;241m.\u001b[39mE941\u001b[38;5;241m.\u001b[39mformat(name\u001b[38;5;241m=\u001b[39mname, full\u001b[38;5;241m=\u001b[39mOLD_MODEL_SHORTCUTS[name]))  \u001b[38;5;66;03m# type: ignore[index]\u001b[39;00m\n\u001b[1;32m--> 472\u001b[0m \u001b[38;5;28;01mraise\u001b[39;00m \u001b[38;5;167;01mIOError\u001b[39;00m(Errors\u001b[38;5;241m.\u001b[39mE050\u001b[38;5;241m.\u001b[39mformat(name\u001b[38;5;241m=\u001b[39mname))\n",
      "\u001b[1;31mOSError\u001b[0m: [E050] Can't find model 'en_core_web_sm'. It doesn't seem to be a Python package or a valid path to a data directory."
     ]
    }
   ],
   "source": [
    "import spacy\n",
    "from spacy.tokens import Span\n",
    "nlp = spacy.load('en_core_web_sm')\n",
    "doc8 = nlp(\"Hands-on\")\n",
    "print(doc8.text)"
   ]
  },
  {
   "cell_type": "code",
   "execution_count": null,
   "metadata": {},
   "outputs": [],
   "source": [
    "doc1 = nlp(\"Must have SDK experience.\")\n",
    "doc1.ents = [Span(doc1, 2, 3, label=\"SKILL\")]\n",
    "\n",
    "doc2 = nlp(\"Looking for a Python developer with Django knowledge.\")\n",
    "doc2.ents = [Span(doc2, 3, 4, label=\"SKILL\"), Span(doc2, 6, 7, label=\"SKILL\")]\n",
    "\n",
    "doc3 = nlp(\"Experience with React and Node.js is required.\")\n",
    "doc3.ents = [Span(doc3, 2, 3, label=\"SKILL\"), Span(doc3, 4, 5, label=\"SKILL\")]\n",
    "\n",
    "doc4 = nlp(\"Proficiency in SQL and data visualization tools is a plus.\")\n",
    "doc4.ents = [Span(doc4, 2, 3, label=\"SKILL\"), Span(doc4, 4, 7, label=\"SKILL\")]\n",
    "\n",
    "doc5 = nlp(\"Familiarity with AWS cloud services is preferred.\")\n",
    "doc5.ents = [Span(doc5, 2, 3, label=\"SKILL\"), Span(doc5, 3, 5, label=\"SKILL\")]\n",
    "\n",
    "doc6 = nlp(\"Knowledge of machine learning algorithms is essential.\")\n",
    "doc6.ents = [Span(doc6, 2, 5, label=\"SKILL\")]\n",
    "\n",
    "doc7 = nlp(\"Seeking a JavaScript engineer skilled in Vue.js.\")\n",
    "doc7.ents = [Span(doc7, 2, 3, label=\"SKILL\"), Span(doc7, 6, 7, label=\"SKILL\")]\n",
    "\n",
    "doc8 = nlp(\"Hands on experience with Docker and Kubernetes.\")\n",
    "doc8.ents = [Span(doc8, 4, 5, label=\"SKILL\"), Span(doc8, 6, 7, label=\"SKILL\")]\n",
    "\n",
    "doc9 = nlp(\"Must have expertise in RESTful API design.\")\n",
    "doc9.ents = [Span(doc9, 4, 5, label=\"SKILL\"), Span(doc9, 5, 7, label=\"SKILL\")]\n",
    "\n",
    "doc10 = nlp(\"Strong understanding of Agile methodologies.\")\n",
    "doc10.ents = [Span(doc10, 3, 4, label=\"SKILL\")]\n",
    "\n",
    "\n",
    "doc11 = nlp(\"Must have TensorFlow experience.\")\n",
    "doc11.ents = [Span(doc1, 2, 3, label=\"SKILL\")]\n",
    "\n",
    "doc12 = nlp(\"Seeking a DevOps engineer skilled in Jenkins and Ansible.\")\n",
    "doc12.ents = [Span(doc2, 2, 3,  label=\"SKILL\"), Span(doc2, 6, 7, label=\"SKILL\"), Span(doc2, 8, 9, label=\"SKILL\")]\n",
    "\n",
    "doc13 = nlp(\"Experience with React Native and Flutter is highly desirable.\")\n",
    "doc13.ents = [Span(doc3, 2, 4, label=\"SKILL\"), Span(doc3, 5, 6, label=\"SKILL\")]\n",
    "\n",
    "doc14 = nlp(\"Proficiency in Tableau and Power BI is a plus.\")\n",
    "doc14.ents = [Span(doc4, 2, 3, label=\"SKILL\"), Span(doc4, 4, 6, label=\"SKILL\")]\n",
    "\n",
    "doc15 = nlp(\"Familiarity with Kubernetes, Docker, and Azure cloud services is preferred.\")\n",
    "doc15.ents = [Span(doc5, 2, 3, label=\"SKILL\"), Span(doc5, 4, 5, label=\"SKILL\"), Span(doc5, 6, 7, label=\"SKILL\"), Span(doc5, 7, 9, label=\"SKILL\")]\n",
    "\n",
    "doc16 = nlp(\"Knowledge of deep learning frameworks such as PyTorch and Keras is essential.\")\n",
    "doc16.ents = [Span(doc6, 2, 5, label=\"SKILL\"), Span(doc6, 7, 8, label=\"SKILL\"), Span(doc6, 9, 10, label=\"SKILL\")]\n",
    "\n",
    "doc17 = nlp(\"Looking for a Java engineer with Spring Boot experience.\")\n",
    "doc17.ents = [Span(doc7, 3, 4, label=\"SKILL\"), Span(doc7, 6, 8, label=\"SKILL\")]\n",
    "\n",
    "doc18 = nlp(\"Hands-on experience with Terraform and AWS Lambda.\")\n",
    "doc18.ents = [Span(doc8, 5, 6, label=\"SKILL\"), Span(doc8, 7, 9, label=\"SKILL\")]\n",
    "\n",
    "doc19 = nlp(\"Must have expertise in GraphQL API design and development.\")\n",
    "doc19.ents = [Span(doc9, 4, 5, label=\"SKILL\"), Span(doc9, 5, 7, label=\"SKILL\"), Span(doc9, 7, 9, label=\"SKILL\")]\n",
    "\n",
    "doc20 = nlp(\"Strong understanding of Scrum and Kanban methodologies.\")\n",
    "doc20.ents = [Span(doc10, 3, 4, label=\"SKILL\"), Span(doc10, 5, 6, label=\"SKILL\")]\n",
    "\n"
   ]
  }
 ],
 "metadata": {
  "kernelspec": {
   "display_name": "Python 3",
   "language": "python",
   "name": "python3"
  },
  "language_info": {
   "codemirror_mode": {
    "name": "ipython",
    "version": 3
   },
   "file_extension": ".py",
   "mimetype": "text/x-python",
   "name": "python",
   "nbconvert_exporter": "python",
   "pygments_lexer": "ipython3",
   "version": "3.12.9"
  }
 },
 "nbformat": 4,
 "nbformat_minor": 2
}
